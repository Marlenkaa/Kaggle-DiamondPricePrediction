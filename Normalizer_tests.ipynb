{
 "cells": [
  {
   "cell_type": "code",
   "execution_count": 242,
   "metadata": {},
   "outputs": [],
   "source": [
    "import numpy as np\n",
    "import pandas as pd\n",
    "from sklearn.experimental import enable_hist_gradient_boosting\n",
    "from sklearn.ensemble import HistGradientBoostingRegressor\n",
    "from sklearn.linear_model import LinearRegression\n",
    "from sklearn.ensemble import RandomForestRegressor\n",
    "from sklearn.linear_model import ElasticNet\n",
    "from sklearn.svm import LinearSVR\n",
    "import xgboost as xgb\n",
    "from sklearn.model_selection import train_test_split\n",
    "from sklearn.metrics import r2_score\n",
    "from sklearn.metrics import mean_squared_error\n",
    "from math import sqrt\n",
    "import warnings\n",
    "import matplotlib.pyplot as plt\n",
    "import seaborn as sns\n",
    "from sklearn.preprocessing import Normalizer\n",
    "from sklearn import ensemble\n",
    "\n",
    "warnings.filterwarnings('ignore')"
   ]
  },
  {
   "cell_type": "markdown",
   "metadata": {},
   "source": [
    "# LIMPIEZA"
   ]
  },
  {
   "cell_type": "code",
   "execution_count": 231,
   "metadata": {},
   "outputs": [
    {
     "data": {
      "text/html": [
       "<div>\n",
       "<style scoped>\n",
       "    .dataframe tbody tr th:only-of-type {\n",
       "        vertical-align: middle;\n",
       "    }\n",
       "\n",
       "    .dataframe tbody tr th {\n",
       "        vertical-align: top;\n",
       "    }\n",
       "\n",
       "    .dataframe thead th {\n",
       "        text-align: right;\n",
       "    }\n",
       "</style>\n",
       "<table border=\"1\" class=\"dataframe\">\n",
       "  <thead>\n",
       "    <tr style=\"text-align: right;\">\n",
       "      <th></th>\n",
       "      <th>id</th>\n",
       "      <th>carat</th>\n",
       "      <th>cut</th>\n",
       "      <th>color</th>\n",
       "      <th>clarity</th>\n",
       "      <th>depth</th>\n",
       "      <th>table</th>\n",
       "      <th>x</th>\n",
       "      <th>y</th>\n",
       "      <th>z</th>\n",
       "      <th>price</th>\n",
       "    </tr>\n",
       "  </thead>\n",
       "  <tbody>\n",
       "    <tr>\n",
       "      <th>0</th>\n",
       "      <td>0</td>\n",
       "      <td>0.78</td>\n",
       "      <td>Premium</td>\n",
       "      <td>F</td>\n",
       "      <td>VS1</td>\n",
       "      <td>61.5</td>\n",
       "      <td>58.0</td>\n",
       "      <td>5.93</td>\n",
       "      <td>5.98</td>\n",
       "      <td>3.66</td>\n",
       "      <td>3446</td>\n",
       "    </tr>\n",
       "    <tr>\n",
       "      <th>1</th>\n",
       "      <td>1</td>\n",
       "      <td>0.31</td>\n",
       "      <td>Ideal</td>\n",
       "      <td>D</td>\n",
       "      <td>SI1</td>\n",
       "      <td>60.8</td>\n",
       "      <td>56.0</td>\n",
       "      <td>4.37</td>\n",
       "      <td>4.32</td>\n",
       "      <td>2.64</td>\n",
       "      <td>732</td>\n",
       "    </tr>\n",
       "    <tr>\n",
       "      <th>2</th>\n",
       "      <td>2</td>\n",
       "      <td>0.30</td>\n",
       "      <td>Ideal</td>\n",
       "      <td>F</td>\n",
       "      <td>SI1</td>\n",
       "      <td>62.3</td>\n",
       "      <td>54.0</td>\n",
       "      <td>4.30</td>\n",
       "      <td>4.34</td>\n",
       "      <td>2.69</td>\n",
       "      <td>475</td>\n",
       "    </tr>\n",
       "    <tr>\n",
       "      <th>3</th>\n",
       "      <td>3</td>\n",
       "      <td>1.04</td>\n",
       "      <td>Ideal</td>\n",
       "      <td>E</td>\n",
       "      <td>VVS2</td>\n",
       "      <td>62.0</td>\n",
       "      <td>58.0</td>\n",
       "      <td>6.54</td>\n",
       "      <td>6.46</td>\n",
       "      <td>4.03</td>\n",
       "      <td>9552</td>\n",
       "    </tr>\n",
       "    <tr>\n",
       "      <th>4</th>\n",
       "      <td>4</td>\n",
       "      <td>0.65</td>\n",
       "      <td>Ideal</td>\n",
       "      <td>J</td>\n",
       "      <td>SI1</td>\n",
       "      <td>61.4</td>\n",
       "      <td>55.0</td>\n",
       "      <td>5.58</td>\n",
       "      <td>5.62</td>\n",
       "      <td>3.44</td>\n",
       "      <td>1276</td>\n",
       "    </tr>\n",
       "  </tbody>\n",
       "</table>\n",
       "</div>"
      ],
      "text/plain": [
       "   id  carat      cut color clarity  depth  table     x     y     z  price\n",
       "0   0   0.78  Premium     F     VS1   61.5   58.0  5.93  5.98  3.66   3446\n",
       "1   1   0.31    Ideal     D     SI1   60.8   56.0  4.37  4.32  2.64    732\n",
       "2   2   0.30    Ideal     F     SI1   62.3   54.0  4.30  4.34  2.69    475\n",
       "3   3   1.04    Ideal     E    VVS2   62.0   58.0  6.54  6.46  4.03   9552\n",
       "4   4   0.65    Ideal     J     SI1   61.4   55.0  5.58  5.62  3.44   1276"
      ]
     },
     "execution_count": 231,
     "metadata": {},
     "output_type": "execute_result"
    }
   ],
   "source": [
    "data = pd.read_csv('diamonds_train.csv')\n",
    "data.head()"
   ]
  },
  {
   "cell_type": "code",
   "execution_count": 232,
   "metadata": {},
   "outputs": [
    {
     "data": {
      "text/html": [
       "<div>\n",
       "<style scoped>\n",
       "    .dataframe tbody tr th:only-of-type {\n",
       "        vertical-align: middle;\n",
       "    }\n",
       "\n",
       "    .dataframe tbody tr th {\n",
       "        vertical-align: top;\n",
       "    }\n",
       "\n",
       "    .dataframe thead th {\n",
       "        text-align: right;\n",
       "    }\n",
       "</style>\n",
       "<table border=\"1\" class=\"dataframe\">\n",
       "  <thead>\n",
       "    <tr style=\"text-align: right;\">\n",
       "      <th></th>\n",
       "      <th>carat</th>\n",
       "      <th>cut</th>\n",
       "      <th>color</th>\n",
       "      <th>clarity</th>\n",
       "      <th>depth</th>\n",
       "      <th>table</th>\n",
       "      <th>x</th>\n",
       "      <th>y</th>\n",
       "      <th>z</th>\n",
       "      <th>price</th>\n",
       "    </tr>\n",
       "  </thead>\n",
       "  <tbody>\n",
       "    <tr>\n",
       "      <th>0</th>\n",
       "      <td>0.78</td>\n",
       "      <td>Premium</td>\n",
       "      <td>F</td>\n",
       "      <td>VS1</td>\n",
       "      <td>61.5</td>\n",
       "      <td>58.0</td>\n",
       "      <td>5.93</td>\n",
       "      <td>5.98</td>\n",
       "      <td>3.66</td>\n",
       "      <td>3446</td>\n",
       "    </tr>\n",
       "    <tr>\n",
       "      <th>1</th>\n",
       "      <td>0.31</td>\n",
       "      <td>Ideal</td>\n",
       "      <td>D</td>\n",
       "      <td>SI1</td>\n",
       "      <td>60.8</td>\n",
       "      <td>56.0</td>\n",
       "      <td>4.37</td>\n",
       "      <td>4.32</td>\n",
       "      <td>2.64</td>\n",
       "      <td>732</td>\n",
       "    </tr>\n",
       "    <tr>\n",
       "      <th>2</th>\n",
       "      <td>0.30</td>\n",
       "      <td>Ideal</td>\n",
       "      <td>F</td>\n",
       "      <td>SI1</td>\n",
       "      <td>62.3</td>\n",
       "      <td>54.0</td>\n",
       "      <td>4.30</td>\n",
       "      <td>4.34</td>\n",
       "      <td>2.69</td>\n",
       "      <td>475</td>\n",
       "    </tr>\n",
       "    <tr>\n",
       "      <th>3</th>\n",
       "      <td>1.04</td>\n",
       "      <td>Ideal</td>\n",
       "      <td>E</td>\n",
       "      <td>VVS2</td>\n",
       "      <td>62.0</td>\n",
       "      <td>58.0</td>\n",
       "      <td>6.54</td>\n",
       "      <td>6.46</td>\n",
       "      <td>4.03</td>\n",
       "      <td>9552</td>\n",
       "    </tr>\n",
       "    <tr>\n",
       "      <th>4</th>\n",
       "      <td>0.65</td>\n",
       "      <td>Ideal</td>\n",
       "      <td>J</td>\n",
       "      <td>SI1</td>\n",
       "      <td>61.4</td>\n",
       "      <td>55.0</td>\n",
       "      <td>5.58</td>\n",
       "      <td>5.62</td>\n",
       "      <td>3.44</td>\n",
       "      <td>1276</td>\n",
       "    </tr>\n",
       "  </tbody>\n",
       "</table>\n",
       "</div>"
      ],
      "text/plain": [
       "   carat      cut color clarity  depth  table     x     y     z  price\n",
       "0   0.78  Premium     F     VS1   61.5   58.0  5.93  5.98  3.66   3446\n",
       "1   0.31    Ideal     D     SI1   60.8   56.0  4.37  4.32  2.64    732\n",
       "2   0.30    Ideal     F     SI1   62.3   54.0  4.30  4.34  2.69    475\n",
       "3   1.04    Ideal     E    VVS2   62.0   58.0  6.54  6.46  4.03   9552\n",
       "4   0.65    Ideal     J     SI1   61.4   55.0  5.58  5.62  3.44   1276"
      ]
     },
     "execution_count": 232,
     "metadata": {},
     "output_type": "execute_result"
    }
   ],
   "source": [
    "# Nos quitamos el id\n",
    "data = data.iloc[:,1:]\n",
    "data.head()"
   ]
  },
  {
   "cell_type": "code",
   "execution_count": 233,
   "metadata": {},
   "outputs": [
    {
     "data": {
      "text/html": [
       "<div>\n",
       "<style scoped>\n",
       "    .dataframe tbody tr th:only-of-type {\n",
       "        vertical-align: middle;\n",
       "    }\n",
       "\n",
       "    .dataframe tbody tr th {\n",
       "        vertical-align: top;\n",
       "    }\n",
       "\n",
       "    .dataframe thead th {\n",
       "        text-align: right;\n",
       "    }\n",
       "</style>\n",
       "<table border=\"1\" class=\"dataframe\">\n",
       "  <thead>\n",
       "    <tr style=\"text-align: right;\">\n",
       "      <th></th>\n",
       "      <th>carat</th>\n",
       "      <th>depth</th>\n",
       "      <th>table</th>\n",
       "      <th>x</th>\n",
       "      <th>y</th>\n",
       "      <th>z</th>\n",
       "      <th>price</th>\n",
       "    </tr>\n",
       "  </thead>\n",
       "  <tbody>\n",
       "    <tr>\n",
       "      <th>count</th>\n",
       "      <td>40345.000000</td>\n",
       "      <td>40345.000000</td>\n",
       "      <td>40345.000000</td>\n",
       "      <td>40345.000000</td>\n",
       "      <td>40345.000000</td>\n",
       "      <td>40345.000000</td>\n",
       "      <td>40345.000000</td>\n",
       "    </tr>\n",
       "    <tr>\n",
       "      <th>mean</th>\n",
       "      <td>0.797699</td>\n",
       "      <td>61.749721</td>\n",
       "      <td>57.449421</td>\n",
       "      <td>5.730824</td>\n",
       "      <td>5.734808</td>\n",
       "      <td>3.537958</td>\n",
       "      <td>3931.902243</td>\n",
       "    </tr>\n",
       "    <tr>\n",
       "      <th>std</th>\n",
       "      <td>0.474309</td>\n",
       "      <td>1.427728</td>\n",
       "      <td>2.234087</td>\n",
       "      <td>1.121767</td>\n",
       "      <td>1.151536</td>\n",
       "      <td>0.695039</td>\n",
       "      <td>3994.318832</td>\n",
       "    </tr>\n",
       "    <tr>\n",
       "      <th>min</th>\n",
       "      <td>0.200000</td>\n",
       "      <td>43.000000</td>\n",
       "      <td>43.000000</td>\n",
       "      <td>0.000000</td>\n",
       "      <td>0.000000</td>\n",
       "      <td>0.000000</td>\n",
       "      <td>326.000000</td>\n",
       "    </tr>\n",
       "    <tr>\n",
       "      <th>25%</th>\n",
       "      <td>0.400000</td>\n",
       "      <td>61.000000</td>\n",
       "      <td>56.000000</td>\n",
       "      <td>4.710000</td>\n",
       "      <td>4.720000</td>\n",
       "      <td>2.910000</td>\n",
       "      <td>952.000000</td>\n",
       "    </tr>\n",
       "    <tr>\n",
       "      <th>50%</th>\n",
       "      <td>0.700000</td>\n",
       "      <td>61.800000</td>\n",
       "      <td>57.000000</td>\n",
       "      <td>5.690000</td>\n",
       "      <td>5.710000</td>\n",
       "      <td>3.520000</td>\n",
       "      <td>2397.000000</td>\n",
       "    </tr>\n",
       "    <tr>\n",
       "      <th>75%</th>\n",
       "      <td>1.040000</td>\n",
       "      <td>62.500000</td>\n",
       "      <td>59.000000</td>\n",
       "      <td>6.540000</td>\n",
       "      <td>6.540000</td>\n",
       "      <td>4.030000</td>\n",
       "      <td>5317.000000</td>\n",
       "    </tr>\n",
       "    <tr>\n",
       "      <th>max</th>\n",
       "      <td>5.010000</td>\n",
       "      <td>79.000000</td>\n",
       "      <td>95.000000</td>\n",
       "      <td>10.740000</td>\n",
       "      <td>58.900000</td>\n",
       "      <td>8.060000</td>\n",
       "      <td>18823.000000</td>\n",
       "    </tr>\n",
       "  </tbody>\n",
       "</table>\n",
       "</div>"
      ],
      "text/plain": [
       "              carat         depth         table             x             y  \\\n",
       "count  40345.000000  40345.000000  40345.000000  40345.000000  40345.000000   \n",
       "mean       0.797699     61.749721     57.449421      5.730824      5.734808   \n",
       "std        0.474309      1.427728      2.234087      1.121767      1.151536   \n",
       "min        0.200000     43.000000     43.000000      0.000000      0.000000   \n",
       "25%        0.400000     61.000000     56.000000      4.710000      4.720000   \n",
       "50%        0.700000     61.800000     57.000000      5.690000      5.710000   \n",
       "75%        1.040000     62.500000     59.000000      6.540000      6.540000   \n",
       "max        5.010000     79.000000     95.000000     10.740000     58.900000   \n",
       "\n",
       "                  z         price  \n",
       "count  40345.000000  40345.000000  \n",
       "mean       3.537958   3931.902243  \n",
       "std        0.695039   3994.318832  \n",
       "min        0.000000    326.000000  \n",
       "25%        2.910000    952.000000  \n",
       "50%        3.520000   2397.000000  \n",
       "75%        4.030000   5317.000000  \n",
       "max        8.060000  18823.000000  "
      ]
     },
     "execution_count": 233,
     "metadata": {},
     "output_type": "execute_result"
    }
   ],
   "source": [
    "''' Vemos que en las columnas de medidas (x,y,z) los valores mínimos son 0, por tanto, son valores nulos que nos\n",
    "desvirtúan las métricas.'''\n",
    "'''Además, en la medida y el valor máximo es 58.9, que comparado con la media parece traterse de un error'''\n",
    "data.describe()"
   ]
  },
  {
   "cell_type": "code",
   "execution_count": 234,
   "metadata": {},
   "outputs": [],
   "source": [
    "# Teniendo en cuenta lo anterior, quitamos los valores nulos\n",
    "data = data.loc[(data['x'] != 0) & (data['y'] != 0) & (data['z'] != 0)]\n",
    "data = data.loc[(data['y'] < 15)]"
   ]
  },
  {
   "cell_type": "code",
   "execution_count": 235,
   "metadata": {},
   "outputs": [],
   "source": [
    "# Sacamos lista ordenada del tipo de corte del peor al mejor\n",
    "cut_list = list(data.cut.value_counts().keys())\n",
    "cut_list.reverse()\n",
    "# Aplicamos el valor numérico para que lo valore en función de la importancia del corte\n",
    "data['cut'] = data['cut'].apply(lambda x: cut_list.index(x))"
   ]
  },
  {
   "cell_type": "code",
   "execution_count": 236,
   "metadata": {},
   "outputs": [],
   "source": [
    "# Sacamos lista ordenada del color del peor al mejor\n",
    "color_list = sorted(list(data.color.value_counts().keys()),reverse=True)\n",
    "# Aplicamos el valor numérico para que lo valore en función de la importancia del color\n",
    "data['color'] = data['color'].apply(lambda x: color_list.index(x))"
   ]
  },
  {
   "cell_type": "code",
   "execution_count": 237,
   "metadata": {},
   "outputs": [],
   "source": [
    "# Sacamos lista ordenada de la claridad de peor a mejor\n",
    "clarity_list = ['I1', 'SI2', 'SI1', 'VS2', 'VS1', 'VVS2', 'VVS1', 'IF']\n",
    "# Aplicamos el valor numérico para que lo valore en función de la importancia de la claridad\n",
    "data['clarity'] = data['clarity'].apply(lambda x: clarity_list.index(x))"
   ]
  },
  {
   "cell_type": "code",
   "execution_count": 238,
   "metadata": {},
   "outputs": [
    {
     "data": {
      "text/html": [
       "<div>\n",
       "<style scoped>\n",
       "    .dataframe tbody tr th:only-of-type {\n",
       "        vertical-align: middle;\n",
       "    }\n",
       "\n",
       "    .dataframe tbody tr th {\n",
       "        vertical-align: top;\n",
       "    }\n",
       "\n",
       "    .dataframe thead th {\n",
       "        text-align: right;\n",
       "    }\n",
       "</style>\n",
       "<table border=\"1\" class=\"dataframe\">\n",
       "  <thead>\n",
       "    <tr style=\"text-align: right;\">\n",
       "      <th></th>\n",
       "      <th>carat</th>\n",
       "      <th>cut</th>\n",
       "      <th>color</th>\n",
       "      <th>clarity</th>\n",
       "      <th>depth</th>\n",
       "      <th>table</th>\n",
       "      <th>x</th>\n",
       "      <th>y</th>\n",
       "      <th>z</th>\n",
       "      <th>price</th>\n",
       "    </tr>\n",
       "  </thead>\n",
       "  <tbody>\n",
       "    <tr>\n",
       "      <th>0</th>\n",
       "      <td>0.78</td>\n",
       "      <td>3</td>\n",
       "      <td>4</td>\n",
       "      <td>4</td>\n",
       "      <td>61.5</td>\n",
       "      <td>58.0</td>\n",
       "      <td>5.93</td>\n",
       "      <td>5.98</td>\n",
       "      <td>3.66</td>\n",
       "      <td>3446</td>\n",
       "    </tr>\n",
       "    <tr>\n",
       "      <th>1</th>\n",
       "      <td>0.31</td>\n",
       "      <td>4</td>\n",
       "      <td>6</td>\n",
       "      <td>2</td>\n",
       "      <td>60.8</td>\n",
       "      <td>56.0</td>\n",
       "      <td>4.37</td>\n",
       "      <td>4.32</td>\n",
       "      <td>2.64</td>\n",
       "      <td>732</td>\n",
       "    </tr>\n",
       "    <tr>\n",
       "      <th>2</th>\n",
       "      <td>0.30</td>\n",
       "      <td>4</td>\n",
       "      <td>4</td>\n",
       "      <td>2</td>\n",
       "      <td>62.3</td>\n",
       "      <td>54.0</td>\n",
       "      <td>4.30</td>\n",
       "      <td>4.34</td>\n",
       "      <td>2.69</td>\n",
       "      <td>475</td>\n",
       "    </tr>\n",
       "    <tr>\n",
       "      <th>3</th>\n",
       "      <td>1.04</td>\n",
       "      <td>4</td>\n",
       "      <td>5</td>\n",
       "      <td>5</td>\n",
       "      <td>62.0</td>\n",
       "      <td>58.0</td>\n",
       "      <td>6.54</td>\n",
       "      <td>6.46</td>\n",
       "      <td>4.03</td>\n",
       "      <td>9552</td>\n",
       "    </tr>\n",
       "    <tr>\n",
       "      <th>4</th>\n",
       "      <td>0.65</td>\n",
       "      <td>4</td>\n",
       "      <td>0</td>\n",
       "      <td>2</td>\n",
       "      <td>61.4</td>\n",
       "      <td>55.0</td>\n",
       "      <td>5.58</td>\n",
       "      <td>5.62</td>\n",
       "      <td>3.44</td>\n",
       "      <td>1276</td>\n",
       "    </tr>\n",
       "  </tbody>\n",
       "</table>\n",
       "</div>"
      ],
      "text/plain": [
       "   carat  cut  color  clarity  depth  table     x     y     z  price\n",
       "0   0.78    3      4        4   61.5   58.0  5.93  5.98  3.66   3446\n",
       "1   0.31    4      6        2   60.8   56.0  4.37  4.32  2.64    732\n",
       "2   0.30    4      4        2   62.3   54.0  4.30  4.34  2.69    475\n",
       "3   1.04    4      5        5   62.0   58.0  6.54  6.46  4.03   9552\n",
       "4   0.65    4      0        2   61.4   55.0  5.58  5.62  3.44   1276"
      ]
     },
     "execution_count": 238,
     "metadata": {},
     "output_type": "execute_result"
    }
   ],
   "source": [
    "data.head()"
   ]
  },
  {
   "cell_type": "code",
   "execution_count": 212,
   "metadata": {},
   "outputs": [],
   "source": [
    "# Hago copia de los datos para que al normalizarlos y cambiar todos los valores, no me varíen las métricas del describe()\n",
    "data_stable = data.copy()"
   ]
  },
  {
   "cell_type": "code",
   "execution_count": 213,
   "metadata": {},
   "outputs": [],
   "source": [
    "# Convierto datos en array\n",
    "data_array = data.to_numpy().T"
   ]
  },
  {
   "cell_type": "code",
   "execution_count": 155,
   "metadata": {},
   "outputs": [
    {
     "name": "stdout",
     "output_type": "stream",
     "text": [
      "[[0. 3. 6.]\n",
      " [1. 4. 7.]\n",
      " [2. 5. 8.]]\n"
     ]
    },
    {
     "data": {
      "text/plain": [
       "(array([ 0.,  6., 12.]), array([ 4., 16., 28.]))"
      ]
     },
     "execution_count": 155,
     "metadata": {},
     "output_type": "execute_result"
    }
   ],
   "source": [
    "# Pruebas para ver si funciona lo que tengo en mente\n",
    "x = np.array([[ 0.,  1.,  2.],[ 3.,  4.,  5.],[ 6.,  7.,  8.]])\n",
    "x.shape\n",
    "x = x.T\n",
    "print(x)\n",
    "a = x[0]*2\n",
    "b = x[1]*4\n",
    "x = a,b\n",
    "pd.DataFrame(x)\n",
    "x"
   ]
  },
  {
   "cell_type": "code",
   "execution_count": 106,
   "metadata": {},
   "outputs": [],
   "source": [
    "# Función para normalizar, la cual no funciona\n",
    "def normalizer(array):\n",
    "    count = 0\n",
    "    for col in list(data.columns):\n",
    "        ((array[count]-data_stable.describe()[col][1])/data_stable.describe()[col][2])\n",
    "        count += 1\n",
    "        print(f'{col} done')\n",
    "    return array"
   ]
  },
  {
   "cell_type": "code",
   "execution_count": 215,
   "metadata": {},
   "outputs": [],
   "source": [
    "# Por lo que hice este churro por no rallarme más con la función anterior\n",
    "a = (data_array[0]-data_stable.describe()['carat'][1])/data_stable.describe()['carat'][2]\n",
    "b = (data_array[1]-data_stable.describe()['cut'][1])/data_stable.describe()['cut'][2]\n",
    "c = (data_array[2]-data_stable.describe()['color'][1])/data_stable.describe()['color'][2]\n",
    "d = (data_array[3]-data_stable.describe()['clarity'][1])/data_stable.describe()['clarity'][2]\n",
    "e = (data_array[4]-data_stable.describe()['depth'][1])/data_stable.describe()['depth'][2]\n",
    "f = (data_array[5]-data_stable.describe()['table'][1])/data_stable.describe()['table'][2]\n",
    "g = (data_array[6]-data_stable.describe()['x'][1])/data_stable.describe()['x'][2]\n",
    "h = (data_array[7]-data_stable.describe()['y'][1])/data_stable.describe()['y'][2]\n",
    "i = (data_array[8]-data_stable.describe()['z'][1])/data_stable.describe()['z'][2]\n",
    "j = (data_array[9]-data_stable.describe()['price'][1])/data_stable.describe()['price'][2]"
   ]
  },
  {
   "cell_type": "code",
   "execution_count": 216,
   "metadata": {},
   "outputs": [],
   "source": [
    "normalized_data = a,b,c,d,e,f,g,h,i,j\n",
    "normalized_data = pd.DataFrame(normalized_data).T"
   ]
  },
  {
   "cell_type": "code",
   "execution_count": 217,
   "metadata": {},
   "outputs": [
    {
     "data": {
      "text/html": [
       "<div>\n",
       "<style scoped>\n",
       "    .dataframe tbody tr th:only-of-type {\n",
       "        vertical-align: middle;\n",
       "    }\n",
       "\n",
       "    .dataframe tbody tr th {\n",
       "        vertical-align: top;\n",
       "    }\n",
       "\n",
       "    .dataframe thead th {\n",
       "        text-align: right;\n",
       "    }\n",
       "</style>\n",
       "<table border=\"1\" class=\"dataframe\">\n",
       "  <thead>\n",
       "    <tr style=\"text-align: right;\">\n",
       "      <th></th>\n",
       "      <th>carat</th>\n",
       "      <th>cut</th>\n",
       "      <th>color</th>\n",
       "      <th>clarity</th>\n",
       "      <th>depth</th>\n",
       "      <th>table</th>\n",
       "      <th>x</th>\n",
       "      <th>y</th>\n",
       "      <th>z</th>\n",
       "      <th>price</th>\n",
       "    </tr>\n",
       "  </thead>\n",
       "  <tbody>\n",
       "    <tr>\n",
       "      <th>0</th>\n",
       "      <td>-0.036794</td>\n",
       "      <td>0.084257</td>\n",
       "      <td>0.348828</td>\n",
       "      <td>0.571595</td>\n",
       "      <td>-0.175145</td>\n",
       "      <td>0.246645</td>\n",
       "      <td>0.177732</td>\n",
       "      <td>0.222286</td>\n",
       "      <td>0.174898</td>\n",
       "      <td>-0.121282</td>\n",
       "    </tr>\n",
       "    <tr>\n",
       "      <th>1</th>\n",
       "      <td>-1.028201</td>\n",
       "      <td>0.980822</td>\n",
       "      <td>1.524677</td>\n",
       "      <td>-0.639876</td>\n",
       "      <td>-0.665569</td>\n",
       "      <td>-0.648787</td>\n",
       "      <td>-1.215041</td>\n",
       "      <td>-1.270667</td>\n",
       "      <td>-1.299874</td>\n",
       "      <td>-0.801059</td>\n",
       "    </tr>\n",
       "    <tr>\n",
       "      <th>2</th>\n",
       "      <td>-1.049295</td>\n",
       "      <td>0.980822</td>\n",
       "      <td>0.348828</td>\n",
       "      <td>-0.639876</td>\n",
       "      <td>0.385339</td>\n",
       "      <td>-1.544220</td>\n",
       "      <td>-1.277537</td>\n",
       "      <td>-1.252680</td>\n",
       "      <td>-1.227581</td>\n",
       "      <td>-0.865430</td>\n",
       "    </tr>\n",
       "    <tr>\n",
       "      <th>3</th>\n",
       "      <td>0.511643</td>\n",
       "      <td>0.980822</td>\n",
       "      <td>0.936752</td>\n",
       "      <td>1.177331</td>\n",
       "      <td>0.175157</td>\n",
       "      <td>0.246645</td>\n",
       "      <td>0.722342</td>\n",
       "      <td>0.653983</td>\n",
       "      <td>0.709864</td>\n",
       "      <td>1.408090</td>\n",
       "    </tr>\n",
       "    <tr>\n",
       "      <th>4</th>\n",
       "      <td>-0.311013</td>\n",
       "      <td>0.980822</td>\n",
       "      <td>-2.002872</td>\n",
       "      <td>-0.639876</td>\n",
       "      <td>-0.245206</td>\n",
       "      <td>-1.096503</td>\n",
       "      <td>-0.134749</td>\n",
       "      <td>-0.101487</td>\n",
       "      <td>-0.143190</td>\n",
       "      <td>-0.664803</td>\n",
       "    </tr>\n",
       "  </tbody>\n",
       "</table>\n",
       "</div>"
      ],
      "text/plain": [
       "      carat       cut     color   clarity     depth     table         x  \\\n",
       "0 -0.036794  0.084257  0.348828  0.571595 -0.175145  0.246645  0.177732   \n",
       "1 -1.028201  0.980822  1.524677 -0.639876 -0.665569 -0.648787 -1.215041   \n",
       "2 -1.049295  0.980822  0.348828 -0.639876  0.385339 -1.544220 -1.277537   \n",
       "3  0.511643  0.980822  0.936752  1.177331  0.175157  0.246645  0.722342   \n",
       "4 -0.311013  0.980822 -2.002872 -0.639876 -0.245206 -1.096503 -0.134749   \n",
       "\n",
       "          y         z     price  \n",
       "0  0.222286  0.174898 -0.121282  \n",
       "1 -1.270667 -1.299874 -0.801059  \n",
       "2 -1.252680 -1.227581 -0.865430  \n",
       "3  0.653983  0.709864  1.408090  \n",
       "4 -0.101487 -0.143190 -0.664803  "
      ]
     },
     "execution_count": 217,
     "metadata": {},
     "output_type": "execute_result"
    }
   ],
   "source": [
    "normalized_data.columns = list(data.columns)\n",
    "normalized_data.head()"
   ]
  },
  {
   "cell_type": "code",
   "execution_count": 239,
   "metadata": {},
   "outputs": [],
   "source": [
    "# Asignamos las features a la X\n",
    "X = data.drop(columns='price')\n",
    "# Asignamos el precio a predecir a la y\n",
    "y = data['price']"
   ]
  },
  {
   "cell_type": "code",
   "execution_count": 240,
   "metadata": {},
   "outputs": [],
   "source": [
    "# Dividimos los datos en entrenamiento y test\n",
    "X_train, X_test, y_train, y_test = train_test_split(X, y, test_size=0.2, random_state=2)"
   ]
  },
  {
   "cell_type": "code",
   "execution_count": 187,
   "metadata": {},
   "outputs": [],
   "source": [
    "# Entrenamos según modelo\n",
    "\n",
    "models = {\n",
    "    'LinearReg': LinearRegression(),\n",
    "    'LinearSVR': LinearSVR(),\n",
    "    'RandomForestRegressor': RandomForestRegressor(n_estimators=250),\n",
    "    'XGBRegressor': xgb.XGBRegressor(n_estimators=250),\n",
    "    'HistGrad': HistGradientBoostingRegressor(),\n",
    "    'ElasticNet': ElasticNet(random_state=0)\n",
    "    }\n",
    "\n",
    "results = {}\n",
    "\n",
    "for name,model in models.items():\n",
    "    \n",
    "    data_trained = model.fit(X_train, y_train)\n",
    "    prediction = data_trained.predict(X_test)\n",
    "    desviation = 1-np.abs(y_test-prediction).sum()/len(y_test)\n",
    "    rmse = sqrt(mean_squared_error(y_test, prediction))\n",
    "    \n",
    "    results[name] = desviation, rmse"
   ]
  },
  {
   "cell_type": "code",
   "execution_count": 188,
   "metadata": {},
   "outputs": [
    {
     "data": {
      "text/plain": [
       "{'ElasticNet': (0.5083882857028028, 0.6847950035452086),\n",
       " 'HistGrad': (0.9281390998045487, 0.1369333995007283),\n",
       " 'LinearReg': (0.8028812973179986, 0.29373063478989686),\n",
       " 'LinearSVR': (0.8273322874980513, 0.3233159934062042),\n",
       " 'RandomForestRegressor': (0.9304523696973638, 0.14053537871100988),\n",
       " 'XGBRegressor': (0.9284979281965247, 0.1411318641078588)}"
      ]
     },
     "execution_count": 188,
     "metadata": {},
     "output_type": "execute_result"
    }
   ],
   "source": [
    "results"
   ]
  },
  {
   "cell_type": "code",
   "execution_count": 243,
   "metadata": {},
   "outputs": [],
   "source": [
    "# Entrenamos el modelo\n",
    "model = ensemble.GradientBoostingRegressor(n_estimators=400,max_depth=5,min_samples_split=2,learning_rate=0.1,loss='ls')\n",
    "data_trained = model.fit(X_train, y_train)"
   ]
  },
  {
   "cell_type": "code",
   "execution_count": 244,
   "metadata": {},
   "outputs": [],
   "source": [
    "# Lo aplicamos para hacer la predicción\n",
    "pred = data_trained.predict(X_test)"
   ]
  },
  {
   "cell_type": "code",
   "execution_count": 245,
   "metadata": {},
   "outputs": [
    {
     "data": {
      "text/plain": [
       "array([5926.02995715, 4385.27457292, 2052.76576733, ..., 4149.43286838,\n",
       "        871.34138671,  648.42492874])"
      ]
     },
     "execution_count": 245,
     "metadata": {},
     "output_type": "execute_result"
    }
   ],
   "source": [
    "pred"
   ]
  },
  {
   "cell_type": "code",
   "execution_count": 224,
   "metadata": {},
   "outputs": [
    {
     "data": {
      "text/plain": [
       "(8066,)"
      ]
     },
     "execution_count": 224,
     "metadata": {},
     "output_type": "execute_result"
    }
   ],
   "source": [
    "type(y_test)\n",
    "pred.shape"
   ]
  },
  {
   "cell_type": "code",
   "execution_count": 225,
   "metadata": {},
   "outputs": [
    {
     "data": {
      "text/plain": [
       "(8066,)"
      ]
     },
     "execution_count": 225,
     "metadata": {},
     "output_type": "execute_result"
    }
   ],
   "source": [
    "y_test = y_test.to_numpy()\n",
    "y_test.shape"
   ]
  },
  {
   "cell_type": "code",
   "execution_count": 226,
   "metadata": {},
   "outputs": [],
   "source": [
    "# Desnormalizo los resultados\n",
    "y_test = (y_test*data_stable.describe()['price'][2]+data_stable.describe()['price'][1])\n",
    "pred = (pred*data_stable.describe()['price'][2]+data_stable.describe()['price'][1])"
   ]
  },
  {
   "cell_type": "code",
   "execution_count": 247,
   "metadata": {},
   "outputs": [
    {
     "data": {
      "text/plain": [
       "-269.60410678260973"
      ]
     },
     "execution_count": 247,
     "metadata": {},
     "output_type": "execute_result"
    }
   ],
   "source": [
    "# La diferencia media que hay entre la realidad y la predicción\n",
    "1-np.abs(y_test-pred).sum()/len(y_test)"
   ]
  },
  {
   "cell_type": "code",
   "execution_count": 248,
   "metadata": {},
   "outputs": [
    {
     "data": {
      "text/plain": [
       "530.2689133791034"
      ]
     },
     "execution_count": 248,
     "metadata": {},
     "output_type": "execute_result"
    }
   ],
   "source": [
    "# Cuanto de similares de media son los datos reales vs predichos\n",
    "rms = sqrt(mean_squared_error(y_test, pred))\n",
    "rms"
   ]
  }
 ],
 "metadata": {
  "kernelspec": {
   "display_name": "Python 3",
   "language": "python",
   "name": "python3"
  },
  "language_info": {
   "codemirror_mode": {
    "name": "ipython",
    "version": 3
   },
   "file_extension": ".py",
   "mimetype": "text/x-python",
   "name": "python",
   "nbconvert_exporter": "python",
   "pygments_lexer": "ipython3",
   "version": "3.6.9"
  }
 },
 "nbformat": 4,
 "nbformat_minor": 2
}
